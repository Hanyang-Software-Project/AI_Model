{
  "cells": [
    {
      "cell_type": "markdown",
      "id": "95ae7b86",
      "metadata": {
        "id": "95ae7b86"
      },
      "source": [
        "## Unsupervised Classification of Normal and Anomalous Sounds Using Autoencoder CNN and VAE\n",
        "\n",
        "This script tests the ability of a **Convolutional Autoencoder (CNN)** and a **Variational Autoencoder (VAE)**  \n",
        "to perform unsupervised anomaly detection by reconstructing normal sound data and identifying anomalous sounds  \n",
        "based on reconstruction errors.\n",
        "\n",
        "### Workflow:\n",
        "1. **Training Phase**:  \n",
        "   - The models are trained exclusively on **normal sound data**.\n",
        "2. **Testing Phase**:  \n",
        "   - The models are evaluated on a mix of **normal and anomalous sounds**.\n",
        "\n",
        "### Assumption:\n",
        "- Models trained to reconstruct normal data will produce **higher reconstruction errors** when encountering anomalous data.\n",
        "\n",
        "---\n",
        "\n",
        "### Limitations:\n",
        "- **Dataset Size**: The current training dataset consists of **only 200 normal sound files**.  \n",
        "  Even with data augmentation (about **400 samples**), this is insufficient for effective reconstruction learning.\n",
        "- **Model Complexity**: Autoencoders and VAEs require large, diverse datasets to learn meaningful feature representations.  \n",
        "  A small dataset can lead to **overfitting** and poor performance on unseen data.\n",
        "\n",
        "---\n",
        "\n"
      ]
    },
    {
      "cell_type": "markdown",
      "id": "27d1c40d",
      "metadata": {
        "id": "27d1c40d"
      },
      "source": [
        "## Import packages"
      ]
    },
    {
      "cell_type": "code",
      "execution_count": 1,
      "id": "e805b9c5",
      "metadata": {
        "id": "e805b9c5"
      },
      "outputs": [],
      "source": [
        "import numpy as np\n",
        "import pandas as pd\n",
        "import matplotlib.pyplot as plt\n",
        "import matplotlib.cm as cm\n",
        "%matplotlib inline\n",
        "import seaborn as sns\n",
        "\n",
        "from IPython.display import Image, display\n",
        "\n",
        "from sklearn.metrics import confusion_matrix, roc_auc_score, roc_curve, f1_score, accuracy_score, classification_report\n",
        "from sklearn.preprocessing import LabelEncoder\n",
        "from sklearn.model_selection import train_test_split\n",
        "\n",
        "\n",
        "import os\n",
        "#import cv2\n"
      ]
    },
    {
      "cell_type": "markdown",
      "id": "aVBw8K_INmyC",
      "metadata": {
        "id": "aVBw8K_INmyC"
      },
      "source": [
        "## Show the gpu infos\n",
        "... and change if needed in \"Execution\" panel"
      ]
    },
    {
      "cell_type": "code",
      "execution_count": 2,
      "id": "5ELy3j_VNojG",
      "metadata": {
        "colab": {
          "base_uri": "https://localhost:8080/"
        },
        "id": "5ELy3j_VNojG",
        "outputId": "7ca6b419-85b7-4e86-fd97-805f88b78028"
      },
      "outputs": [
        {
          "output_type": "stream",
          "name": "stdout",
          "text": [
            "Fri Dec 13 05:44:16 2024       \n",
            "+---------------------------------------------------------------------------------------+\n",
            "| NVIDIA-SMI 535.104.05             Driver Version: 535.104.05   CUDA Version: 12.2     |\n",
            "|-----------------------------------------+----------------------+----------------------+\n",
            "| GPU  Name                 Persistence-M | Bus-Id        Disp.A | Volatile Uncorr. ECC |\n",
            "| Fan  Temp   Perf          Pwr:Usage/Cap |         Memory-Usage | GPU-Util  Compute M. |\n",
            "|                                         |                      |               MIG M. |\n",
            "|=========================================+======================+======================|\n",
            "|   0  Tesla T4                       Off | 00000000:00:04.0 Off |                    0 |\n",
            "| N/A   35C    P8               9W /  70W |      0MiB / 15360MiB |      0%      Default |\n",
            "|                                         |                      |                  N/A |\n",
            "+-----------------------------------------+----------------------+----------------------+\n",
            "                                                                                         \n",
            "+---------------------------------------------------------------------------------------+\n",
            "| Processes:                                                                            |\n",
            "|  GPU   GI   CI        PID   Type   Process name                            GPU Memory |\n",
            "|        ID   ID                                                             Usage      |\n",
            "|=======================================================================================|\n",
            "|  No running processes found                                                           |\n",
            "+---------------------------------------------------------------------------------------+\n"
          ]
        }
      ],
      "source": [
        "gpu_info = !nvidia-smi\n",
        "gpu_info = '\\n'.join(gpu_info)\n",
        "if gpu_info.find('failed') >= 0:\n",
        "  print('Not connected to a GPU')\n",
        "else:\n",
        "  print(gpu_info)"
      ]
    },
    {
      "cell_type": "code",
      "source": [
        "import sys\n",
        "print(\"Python version:\", sys.version)\n"
      ],
      "metadata": {
        "colab": {
          "base_uri": "https://localhost:8080/"
        },
        "id": "Yp-bKaFGTKkx",
        "outputId": "d90d5437-089c-4aa6-cbc6-d81759de0216"
      },
      "id": "Yp-bKaFGTKkx",
      "execution_count": 3,
      "outputs": [
        {
          "output_type": "stream",
          "name": "stdout",
          "text": [
            "Python version: 3.10.12 (main, Nov  6 2024, 20:22:13) [GCC 11.4.0]\n"
          ]
        }
      ]
    },
    {
      "cell_type": "markdown",
      "id": "nl8J-wmEMgPU",
      "metadata": {
        "id": "nl8J-wmEMgPU"
      },
      "source": [
        "## Import the spectrograms from Google Drive"
      ]
    },
    {
      "cell_type": "code",
      "execution_count": 4,
      "id": "D1qNySc7MsH3",
      "metadata": {
        "colab": {
          "base_uri": "https://localhost:8080/"
        },
        "id": "D1qNySc7MsH3",
        "outputId": "bd15823d-1445-44b3-c549-b844a857e536"
      },
      "outputs": [
        {
          "output_type": "stream",
          "name": "stdout",
          "text": [
            "Mounted at /content/drive\n"
          ]
        }
      ],
      "source": [
        "from google.colab import drive\n",
        "drive.mount('/content/drive', force_remount=True)"
      ]
    },
    {
      "cell_type": "code",
      "source": [
        "import numpy as np\n",
        "import os\n",
        "import librosa\n",
        "import librosa.display\n",
        "import random\n",
        "\n",
        "# Function to add noise\n",
        "def add_noise(data, noise_level=0.005):\n",
        "    noise = np.random.normal(0, noise_level, data.shape)\n",
        "    return data + noise\n",
        "\n",
        "# Function to apply time stretching\n",
        "def time_stretch(data, rate=1.1):\n",
        "    return librosa.effects.time_stretch(data, rate)\n",
        "\n",
        "# Function to apply pitch shifting\n",
        "def pitch_shift(data, sr, n_steps=2):\n",
        "    return librosa.effects.pitch_shift(data, sr=sr, n_steps=n_steps)\n",
        "\n",
        "# Function to adjust volume\n",
        "def adjust_volume(data, factor=1.2):\n",
        "    return data * factor\n",
        "\n",
        "# Function to apply time shifting\n",
        "def time_shift(data, shift_max=0.2):\n",
        "    shift = int(random.uniform(-shift_max, shift_max) * len(data))\n",
        "    return np.roll(data, shift)\n",
        "\n",
        "# Function to create augmentations for a given file\n",
        "def create_augmentations(file_path, output_folder, sr=22050, augmentations=3):\n",
        "    # Load the original audio\n",
        "    data = np.load(file_path)\n",
        "    audio = librosa.feature.inverse.mel_to_audio(data, sr=sr)\n",
        "\n",
        "    # Create augmentations\n",
        "    for i in range(augmentations):\n",
        "        augmented_audio = audio\n",
        "\n",
        "        # Randomly apply augmentations\n",
        "        if random.choice([True, False]):\n",
        "            augmented_audio = add_noise(augmented_audio)\n",
        "        if random.choice([True, False]):\n",
        "            augmented_audio = pitch_shift(augmented_audio, sr, n_steps=random.randint(-2, 2))\n",
        "        if random.choice([True, False]):\n",
        "            augmented_audio = adjust_volume(augmented_audio, factor=random.uniform(0.8, 1.2))\n",
        "        if random.choice([True, False]):\n",
        "            augmented_audio = time_shift(augmented_audio)\n",
        "\n",
        "        # Convert back to Mel spectrogram\n",
        "        augmented_mel = librosa.feature.melspectrogram(y=augmented_audio, sr=sr)\n",
        "\n",
        "        # Save the augmented data\n",
        "        augmented_filename = f\"{os.path.splitext(os.path.basename(file_path))[0]}_aug_{i}.npy\"\n",
        "        augmented_filepath = os.path.join(output_folder, augmented_filename)\n",
        "        np.save(augmented_filepath, augmented_mel)\n",
        "\n",
        "# Path to the normal data folder\n",
        "normal_data_folder = '/content/drive/MyDrive/Colab Notebooks/Dataset_Melspectrograms/ChildrenPlayTrimmed'\n",
        "output_folder = '/content/drive/MyDrive/Colab Notebooks/Dataset_Melspectrograms/ChildrenPlayTrimmed_Augmented'\n",
        "\n",
        "# Ensure the output folder exists\n",
        "os.makedirs(output_folder, exist_ok=True)\n",
        "\n",
        "# Process all normal .npy files in the folder\n",
        "for file in os.listdir(normal_data_folder):\n",
        "    if file.endswith('.npy'):\n",
        "        file_path = os.path.join(normal_data_folder, file)\n",
        "        create_augmentations(file_path, output_folder, sr=22050, augmentations=3)"
      ],
      "metadata": {
        "id": "YXYsITzYtIoj"
      },
      "id": "YXYsITzYtIoj",
      "execution_count": 58,
      "outputs": []
    },
    {
      "cell_type": "markdown",
      "id": "JL-Uu0lgahes",
      "metadata": {
        "id": "JL-Uu0lgahes"
      },
      "source": [
        "## Build selection dataframe"
      ]
    },
    {
      "cell_type": "markdown",
      "id": "18bd36ae",
      "metadata": {
        "id": "18bd36ae"
      },
      "source": [
        "The spectrogram are stored in the folder `Features/melspec_313_128/`. Each machine has its folder `fan/`, `valve/` etc... <br />\n",
        "Each audio sample has its own mespectrogram flattened stored as a .npy file. So each file is one line of 313*128 = 40064 features.\n",
        "\n",
        "We first build a dataframe df which gives us all the properties of the files. This will be used to select sounds according to their section, sound_type, etc ..."
      ]
    },
    {
      "cell_type": "code",
      "execution_count": 71,
      "id": "Wl7ZFXd3igl3",
      "metadata": {
        "id": "Wl7ZFXd3igl3",
        "colab": {
          "base_uri": "https://localhost:8080/"
        },
        "outputId": "47b2f2b9-b432-4aee-db7d-e5abb3b21d0e"
      },
      "outputs": [
        {
          "output_type": "stream",
          "name": "stdout",
          "text": [
            "Combined DataFrame:\n",
            "                                            filepath   type    dir sound_type  \\\n",
            "0  /content/drive/MyDrive/Colab Notebooks/Dataset...  train  train     normal   \n",
            "1  /content/drive/MyDrive/Colab Notebooks/Dataset...   test   test     normal   \n",
            "2  /content/drive/MyDrive/Colab Notebooks/Dataset...  train  train     normal   \n",
            "3  /content/drive/MyDrive/Colab Notebooks/Dataset...  train  train     normal   \n",
            "4  /content/drive/MyDrive/Colab Notebooks/Dataset...  train  train     normal   \n",
            "\n",
            "                                                  id suffix  \n",
            "0  /content/drive/MyDrive/Colab Notebooks/Dataset...         \n",
            "1  /content/drive/MyDrive/Colab Notebooks/Dataset...         \n",
            "2  /content/drive/MyDrive/Colab Notebooks/Dataset...         \n",
            "3  /content/drive/MyDrive/Colab Notebooks/Dataset...         \n",
            "4  /content/drive/MyDrive/Colab Notebooks/Dataset...         \n",
            "\n",
            "Distribution of Data:\n",
            "dir    sound_type\n",
            "test   anomaly       172\n",
            "       normal         41\n",
            "train  normal        582\n",
            "val    normal         53\n",
            "dtype: int64\n"
          ]
        }
      ],
      "source": [
        "import os\n",
        "import pandas as pd\n",
        "import numpy as np\n",
        "\n",
        "def build_selection_dataframe(folder_path):\n",
        "    list_dict_file = []  # List of dictionaries for creating DataFrame\n",
        "\n",
        "    # Define a helper function to process files from a folder\n",
        "    def process_folder(folder_path):\n",
        "        for subdirectory, _, files in os.walk(folder_path):\n",
        "            # Extract the last part of the folder path (the folder name)\n",
        "            folder_name = os.path.basename(subdirectory)\n",
        "\n",
        "            # Determine if the folder is 'ChildrenPlayTrimmed', 'ChildrenPlayTrimmed_Augmented', or 'Conversation' (normal) or an anomaly folder\n",
        "            sound_type = 'normal' if folder_name in ['ChildrenPlayTrimmed', 'ChildrenPlayTrimmed_Augmented', 'Conversation'] else 'anomaly'\n",
        "\n",
        "            # Loop through files\n",
        "            for file in files:\n",
        "                if file.endswith('.npy'):  # Ensure we only process .npy files\n",
        "                    path_file = os.path.join(subdirectory, file)\n",
        "                    splitted_filename = file.split('_')\n",
        "\n",
        "                    # Randomly assign some normal sounds to the test set or validation set\n",
        "                    rand_val = np.random.rand()\n",
        "                    if sound_type == 'normal':\n",
        "                        if rand_val < 0.05:\n",
        "                            dir_type = 'test'\n",
        "                        elif rand_val < 0.15:\n",
        "                            dir_type = 'val'\n",
        "                        else:\n",
        "                            dir_type = 'train'\n",
        "                    else:\n",
        "                        dir_type = 'test'\n",
        "\n",
        "                    # Append dictionary to list\n",
        "                    list_dict_file.append({\n",
        "                        'filepath': path_file,\n",
        "                        'type': dir_type,  # Use 'train', 'val', or 'test' based on assignment\n",
        "                        'dir': dir_type,  # Normal for train, anomaly for test\n",
        "                        'sound_type': sound_type,  # 'normal' or 'anomaly'\n",
        "                        'id': path_file,  # Use path as unique ID\n",
        "                        'suffix': '_'.join(splitted_filename[6:]).split('.npy')[0]  # Extract suffix\n",
        "                    })\n",
        "\n",
        "    # Process the folder\n",
        "    process_folder(folder_path)\n",
        "\n",
        "    # Convert to DataFrame\n",
        "    df = pd.DataFrame(list_dict_file)\n",
        "\n",
        "    return df\n",
        "\n",
        "# Paths to the folder containing your data\n",
        "folder_path = '/content/drive/MyDrive/Colab Notebooks/Dataset_Melspectrograms'\n",
        "\n",
        "# Generate the combined DataFrame\n",
        "df = build_selection_dataframe(folder_path)\n",
        "\n",
        "# Display the generated DataFrame\n",
        "print(\"Combined DataFrame:\")\n",
        "print(df.head())\n",
        "\n",
        "# Show distribution of train/val/test and normal/anomaly\n",
        "print(\"\\nDistribution of Data:\")\n",
        "print(df.groupby(['dir', 'sound_type']).size())\n"
      ]
    },
    {
      "cell_type": "code",
      "source": [
        "df['type'].value_counts()"
      ],
      "metadata": {
        "colab": {
          "base_uri": "https://localhost:8080/",
          "height": 209
        },
        "id": "xhL0-XYXkMrb",
        "outputId": "30b2ac8d-2568-4ce6-cc85-9e0d8bb63541"
      },
      "id": "xhL0-XYXkMrb",
      "execution_count": 72,
      "outputs": [
        {
          "output_type": "execute_result",
          "data": {
            "text/plain": [
              "type\n",
              "train    582\n",
              "test     213\n",
              "val       53\n",
              "Name: count, dtype: int64"
            ],
            "text/html": [
              "<div>\n",
              "<style scoped>\n",
              "    .dataframe tbody tr th:only-of-type {\n",
              "        vertical-align: middle;\n",
              "    }\n",
              "\n",
              "    .dataframe tbody tr th {\n",
              "        vertical-align: top;\n",
              "    }\n",
              "\n",
              "    .dataframe thead th {\n",
              "        text-align: right;\n",
              "    }\n",
              "</style>\n",
              "<table border=\"1\" class=\"dataframe\">\n",
              "  <thead>\n",
              "    <tr style=\"text-align: right;\">\n",
              "      <th></th>\n",
              "      <th>count</th>\n",
              "    </tr>\n",
              "    <tr>\n",
              "      <th>type</th>\n",
              "      <th></th>\n",
              "    </tr>\n",
              "  </thead>\n",
              "  <tbody>\n",
              "    <tr>\n",
              "      <th>train</th>\n",
              "      <td>582</td>\n",
              "    </tr>\n",
              "    <tr>\n",
              "      <th>test</th>\n",
              "      <td>213</td>\n",
              "    </tr>\n",
              "    <tr>\n",
              "      <th>val</th>\n",
              "      <td>53</td>\n",
              "    </tr>\n",
              "  </tbody>\n",
              "</table>\n",
              "</div><br><label><b>dtype:</b> int64</label>"
            ]
          },
          "metadata": {},
          "execution_count": 72
        }
      ]
    },
    {
      "cell_type": "markdown",
      "id": "de7cc7b1",
      "metadata": {
        "id": "de7cc7b1"
      },
      "source": [
        "## Data Generator\n",
        "\n",
        "Since the datasets are quite big, let's make a data generator.<br/>"
      ]
    },
    {
      "cell_type": "code",
      "execution_count": 68,
      "id": "d06f607f",
      "metadata": {
        "id": "d06f607f"
      },
      "outputs": [],
      "source": [
        "import torch\n",
        "import numpy as np\n",
        "import random\n",
        "\n",
        "def data_generator(file_list, batch_size, device='cpu'):\n",
        "\n",
        "    # Index used to go over file list\n",
        "    index = 0\n",
        "\n",
        "    # Infinite loop\n",
        "    while True:\n",
        "\n",
        "        # Case we looped over all the files\n",
        "        if (index + 1) * batch_size >= len(file_list):\n",
        "            # Reinitialize variables for a next round\n",
        "            index = 0\n",
        "\n",
        "            # Shuffle list to have different batches\n",
        "            random.shuffle(file_list)\n",
        "\n",
        "        # Get file paths for the current batch\n",
        "        file_chunk = file_list[index * batch_size:(index + 1) * batch_size]\n",
        "\n",
        "        # Init data list\n",
        "        data = []\n",
        "\n",
        "        # Loop over batch files\n",
        "        for file in file_chunk:\n",
        "            # Load the data and reshape it as necessary\n",
        "            file_data = np.load(file).reshape(128, 431, 1)  # Assuming this shape is correct\n",
        "            file_data = torch.tensor(file_data, dtype=torch.float32).to(device)  # Convert to PyTorch tensor\n",
        "\n",
        "            data.append(file_data)\n",
        "\n",
        "        # Convert list to PyTorch tensor\n",
        "        data = torch.stack(data)  # Shape: (batch_size, 128, 431, 1)\n",
        "\n",
        "        yield data  # Return only data for training or inference\n",
        "\n",
        "        # Increment index\n",
        "        index += 1\n"
      ]
    },
    {
      "cell_type": "markdown",
      "id": "4Ox3zVBMcEY2",
      "metadata": {
        "id": "4Ox3zVBMcEY2"
      },
      "source": [
        "## RUN : predict the machine and deduce the sound type"
      ]
    },
    {
      "cell_type": "markdown",
      "id": "gergg_p8cSrV",
      "metadata": {
        "id": "gergg_p8cSrV"
      },
      "source": [
        "### First model"
      ]
    },
    {
      "cell_type": "code",
      "source": [
        "import torch\n",
        "import torch.nn as nn\n",
        "import torch.nn.functional as F\n",
        "\n",
        "class CNN_Autoencoder(nn.Module):\n",
        "    def __init__(self):\n",
        "        super(CNN_Autoencoder, self).__init__()\n",
        "\n",
        "        # Encoder\n",
        "        self.encoder = nn.Sequential(\n",
        "            nn.BatchNorm2d(1),\n",
        "            nn.Conv2d(1, 16, kernel_size=3, stride=2, padding=1),\n",
        "            nn.LeakyReLU(0.1),\n",
        "            nn.BatchNorm2d(16),\n",
        "            nn.Dropout(0.2),\n",
        "\n",
        "            nn.Conv2d(16, 32, kernel_size=3, stride=2, padding=1),\n",
        "            nn.LeakyReLU(0.1),\n",
        "            nn.BatchNorm2d(32),\n",
        "            nn.Dropout(0.2),\n",
        "\n",
        "            nn.Conv2d(32, 64, kernel_size=3, stride=2, padding=1),\n",
        "            nn.LeakyReLU(0.1),\n",
        "            nn.BatchNorm2d(64),\n",
        "            nn.Dropout(0.2)\n",
        "        )\n",
        "\n",
        "        # Bottleneck: Fully connected layer\n",
        "        self.fc1 = nn.Linear(64 * 16 * 54, 128)  # Adjust dimensions according to your input size\n",
        "        self.fc2 = nn.Linear(128, 64 * 16 * 54)\n",
        "\n",
        "        # Decoder\n",
        "        self.decoder = nn.Sequential(\n",
        "            nn.ConvTranspose2d(64, 32, kernel_size=3, stride=2, padding=1, output_padding=1),\n",
        "            nn.LeakyReLU(0.1),\n",
        "            nn.BatchNorm2d(32),\n",
        "            nn.Dropout(0.2),\n",
        "\n",
        "            nn.ConvTranspose2d(32, 16, kernel_size=3, stride=2, padding=1, output_padding=1),\n",
        "            nn.LeakyReLU(0.1),\n",
        "            nn.BatchNorm2d(16),\n",
        "            nn.Dropout(0.2),\n",
        "\n",
        "            nn.ConvTranspose2d(16, 1, kernel_size=3, stride=2, padding=1, output_padding=1),\n",
        "            nn.Sigmoid()  # Output values between 0 and 1\n",
        "        )\n",
        "\n",
        "    def forward(self, x):\n",
        "        # Encode\n",
        "        x = self.encoder(x)\n",
        "        x = x.view(x.size(0), -1)  # Flatten for the fully connected layer\n",
        "\n",
        "        # Bottleneck\n",
        "        x = self.fc1(x)\n",
        "        x = self.fc2(x)\n",
        "\n",
        "        # Reshape back to feature map size\n",
        "        x = x.view(x.size(0), 64, 16, 54)\n",
        "\n",
        "        # Decode\n",
        "        x = self.decoder(x)\n",
        "\n",
        "        # Ensure output size matches the input size\n",
        "        x = x[:, :, :128, :431]\n",
        "        return x\n"
      ],
      "metadata": {
        "id": "OmZ-Uy_4Cl2F"
      },
      "id": "OmZ-Uy_4Cl2F",
      "execution_count": 98,
      "outputs": []
    },
    {
      "cell_type": "code",
      "source": [
        "from tqdm import tqdm\n",
        "import torch\n",
        "import torch.nn as nn\n",
        "from torch.utils.data import DataLoader\n",
        "import numpy as np\n",
        "\n",
        "def train_autoencoder(model, train_loader, val_loader, criterion, optimizer, device='cpu', epochs=20, gradient_clip=1.0, patience=5, save_path='best_model.pth'):\n",
        "    model.to(device)\n",
        "\n",
        "    train_loss_history = []\n",
        "    val_loss_history = []\n",
        "\n",
        "    # Early stopping variables\n",
        "    best_val_loss = float('inf')\n",
        "    patience_counter = 0\n",
        "\n",
        "    for epoch in range(epochs):\n",
        "        model.train()\n",
        "        running_train_loss = 0.0\n",
        "\n",
        "        # Training loop with tqdm\n",
        "        with tqdm(train_loader, desc=f\"Epoch {epoch+1}/{epochs} [Training]\", leave=False) as t_train:\n",
        "            for data, _ in t_train:  # Unpack data and ignore the labels\n",
        "                data = data.to(device)\n",
        "                optimizer.zero_grad()\n",
        "\n",
        "                # Forward pass\n",
        "                outputs = model(data)\n",
        "\n",
        "                # Compute reconstruction loss\n",
        "                loss = criterion(outputs, data)\n",
        "                loss.backward()\n",
        "\n",
        "                # Gradient clipping to avoid exploding gradients\n",
        "                torch.nn.utils.clip_grad_norm_(model.parameters(), gradient_clip)\n",
        "\n",
        "                optimizer.step()\n",
        "\n",
        "                running_train_loss += loss.item() * data.size(0)\n",
        "                t_train.set_postfix(train_loss=loss.item())\n",
        "\n",
        "        train_loss = running_train_loss / len(train_loader.dataset)\n",
        "        train_loss_history.append(train_loss)\n",
        "\n",
        "        # Validation loop\n",
        "        model.eval()\n",
        "        running_val_loss = 0.0\n",
        "\n",
        "        with tqdm(val_loader, desc=f\"Epoch {epoch+1}/{epochs} [Validation]\", leave=False) as t_val:\n",
        "            with torch.no_grad():\n",
        "                for data, _ in t_val:\n",
        "                    data = data.to(device)\n",
        "                    outputs = model(data)\n",
        "                    loss = criterion(outputs, data)\n",
        "                    running_val_loss += loss.item() * data.size(0)\n",
        "                    t_val.set_postfix(val_loss=loss.item())\n",
        "\n",
        "        val_loss = running_val_loss / len(val_loader.dataset)\n",
        "        val_loss_history.append(val_loss)\n",
        "\n",
        "        # Print epoch summary\n",
        "        print(f\"Epoch [{epoch+1}/{epochs}] - Train Loss: {train_loss:.4f}, Val Loss: {val_loss:.4f}\")\n",
        "\n",
        "        # Early stopping logic\n",
        "        if val_loss < best_val_loss:\n",
        "            best_val_loss = val_loss\n",
        "            patience_counter = 0\n",
        "            # Save the best model\n",
        "            torch.save(model.state_dict(), save_path)\n",
        "            print(f\"Best model saved at epoch {epoch+1} with validation loss: {best_val_loss:.4f}\")\n",
        "        else:\n",
        "            patience_counter += 1\n",
        "            if patience_counter >= patience:\n",
        "                print(f\"Early stopping triggered at epoch {epoch+1}\")\n",
        "                break\n",
        "\n",
        "    # Load the best model\n",
        "    model.load_state_dict(torch.load(save_path))\n",
        "    print(\"Best model loaded.\")\n",
        "\n",
        "    return train_loss_history, val_loss_history\n"
      ],
      "metadata": {
        "id": "lkzclk9ll-Sh"
      },
      "id": "lkzclk9ll-Sh",
      "execution_count": 99,
      "outputs": []
    },
    {
      "cell_type": "code",
      "source": [
        "from torch.utils.data import DataLoader, Dataset\n",
        "\n",
        "class UnsupervisedDataset(torch.utils.data.Dataset):\n",
        "    def __init__(self, filepaths, labels):\n",
        "        self.filepaths = filepaths\n",
        "        self.labels = labels  # 'normal' or 'anomaly'\n",
        "\n",
        "    def __len__(self):\n",
        "        return len(self.filepaths)\n",
        "\n",
        "    def __getitem__(self, idx):\n",
        "        data = np.load(self.filepaths[idx]).reshape(1, 128, 431).astype(np.float32)\n",
        "        label = self.labels[idx]\n",
        "        return torch.tensor(data), label\n",
        "\n",
        "# Prepare file paths and labels\n",
        "train_files = df[df['type'] == 'train']['filepath'].tolist()\n",
        "val_files = df[df['type'] == 'val']['filepath'].tolist()\n",
        "test_files = df[df['type'] == 'test']['filepath'].tolist()\n",
        "test_labels = df[df['type'] == 'test']['sound_type'].tolist()  # 'normal' or 'anomaly'\n",
        "\n",
        "# Create DataLoaders\n",
        "train_loader = DataLoader(UnsupervisedDataset(train_files, ['normal'] * len(train_files)), batch_size=32, shuffle=True)\n",
        "val_loader = DataLoader(UnsupervisedDataset(val_files, ['normal'] * len(val_files)), batch_size=32, shuffle=False)\n",
        "test_loader = DataLoader(UnsupervisedDataset(test_files, test_labels), batch_size=32, shuffle=False)"
      ],
      "metadata": {
        "id": "DmBlH-TkmBM7"
      },
      "id": "DmBlH-TkmBM7",
      "execution_count": 100,
      "outputs": []
    },
    {
      "cell_type": "code",
      "source": [
        "# Initialize model, criterion, and optimizer\n",
        "model = CNN_Autoencoder()\n",
        "criterion = nn.MSELoss()\n",
        "optimizer = torch.optim.Adam(model.parameters(), lr=0.001)\n",
        "\n",
        "# Train the model with validation and early stopping\n",
        "train_loss_history, val_loss_history = train_autoencoder(\n",
        "    model,\n",
        "    train_loader,\n",
        "    val_loader,\n",
        "    criterion,\n",
        "    optimizer,\n",
        "    device='cuda',\n",
        "    epochs=100,\n",
        "    patience=5,\n",
        "    save_path='best_autoencoder.pth'\n",
        ")\n"
      ],
      "metadata": {
        "colab": {
          "base_uri": "https://localhost:8080/"
        },
        "id": "Sj_xbOx6mLDE",
        "outputId": "2d49b24d-4825-4ecf-a087-cf2325746b97"
      },
      "id": "Sj_xbOx6mLDE",
      "execution_count": 101,
      "outputs": [
        {
          "output_type": "stream",
          "name": "stderr",
          "text": []
        },
        {
          "output_type": "stream",
          "name": "stdout",
          "text": [
            "Epoch [1/100] - Train Loss: 3819.0724, Val Loss: 3783.5139\n",
            "Best model saved at epoch 1 with validation loss: 3783.5139\n"
          ]
        },
        {
          "output_type": "stream",
          "name": "stderr",
          "text": []
        },
        {
          "output_type": "stream",
          "name": "stdout",
          "text": [
            "Epoch [2/100] - Train Loss: 3808.7709, Val Loss: 3777.4451\n",
            "Best model saved at epoch 2 with validation loss: 3777.4451\n"
          ]
        },
        {
          "output_type": "stream",
          "name": "stderr",
          "text": []
        },
        {
          "output_type": "stream",
          "name": "stdout",
          "text": [
            "Epoch [3/100] - Train Loss: 3803.6617, Val Loss: 3772.5982\n",
            "Best model saved at epoch 3 with validation loss: 3772.5982\n"
          ]
        },
        {
          "output_type": "stream",
          "name": "stderr",
          "text": []
        },
        {
          "output_type": "stream",
          "name": "stdout",
          "text": [
            "Epoch [4/100] - Train Loss: 3799.8187, Val Loss: 3770.3753\n",
            "Best model saved at epoch 4 with validation loss: 3770.3753\n"
          ]
        },
        {
          "output_type": "stream",
          "name": "stderr",
          "text": []
        },
        {
          "output_type": "stream",
          "name": "stdout",
          "text": [
            "Epoch [5/100] - Train Loss: 3796.4436, Val Loss: 3768.1764\n",
            "Best model saved at epoch 5 with validation loss: 3768.1764\n"
          ]
        },
        {
          "output_type": "stream",
          "name": "stderr",
          "text": []
        },
        {
          "output_type": "stream",
          "name": "stdout",
          "text": [
            "Epoch [6/100] - Train Loss: 3794.1384, Val Loss: 3765.0806\n",
            "Best model saved at epoch 6 with validation loss: 3765.0806\n"
          ]
        },
        {
          "output_type": "stream",
          "name": "stderr",
          "text": []
        },
        {
          "output_type": "stream",
          "name": "stdout",
          "text": [
            "Epoch [7/100] - Train Loss: 3792.3759, Val Loss: 3763.4037\n",
            "Best model saved at epoch 7 with validation loss: 3763.4037\n"
          ]
        },
        {
          "output_type": "stream",
          "name": "stderr",
          "text": []
        },
        {
          "output_type": "stream",
          "name": "stdout",
          "text": [
            "Epoch [8/100] - Train Loss: 3790.6949, Val Loss: 3762.1306\n",
            "Best model saved at epoch 8 with validation loss: 3762.1306\n"
          ]
        },
        {
          "output_type": "stream",
          "name": "stderr",
          "text": []
        },
        {
          "output_type": "stream",
          "name": "stdout",
          "text": [
            "Epoch [9/100] - Train Loss: 3789.4293, Val Loss: 3761.5921\n",
            "Best model saved at epoch 9 with validation loss: 3761.5921\n"
          ]
        },
        {
          "output_type": "stream",
          "name": "stderr",
          "text": []
        },
        {
          "output_type": "stream",
          "name": "stdout",
          "text": [
            "Epoch [10/100] - Train Loss: 3788.4128, Val Loss: 3760.8785\n",
            "Best model saved at epoch 10 with validation loss: 3760.8785\n"
          ]
        },
        {
          "output_type": "stream",
          "name": "stderr",
          "text": []
        },
        {
          "output_type": "stream",
          "name": "stdout",
          "text": [
            "Epoch [11/100] - Train Loss: 3787.7228, Val Loss: 3760.4410\n",
            "Best model saved at epoch 11 with validation loss: 3760.4410\n"
          ]
        },
        {
          "output_type": "stream",
          "name": "stderr",
          "text": []
        },
        {
          "output_type": "stream",
          "name": "stdout",
          "text": [
            "Epoch [12/100] - Train Loss: 3787.1395, Val Loss: 3760.3777\n",
            "Best model saved at epoch 12 with validation loss: 3760.3777\n"
          ]
        },
        {
          "output_type": "stream",
          "name": "stderr",
          "text": []
        },
        {
          "output_type": "stream",
          "name": "stdout",
          "text": [
            "Epoch [13/100] - Train Loss: 3786.8407, Val Loss: 3759.9560\n",
            "Best model saved at epoch 13 with validation loss: 3759.9560\n"
          ]
        },
        {
          "output_type": "stream",
          "name": "stderr",
          "text": []
        },
        {
          "output_type": "stream",
          "name": "stdout",
          "text": [
            "Epoch [14/100] - Train Loss: 3786.4598, Val Loss: 3759.7149\n",
            "Best model saved at epoch 14 with validation loss: 3759.7149\n"
          ]
        },
        {
          "output_type": "stream",
          "name": "stderr",
          "text": []
        },
        {
          "output_type": "stream",
          "name": "stdout",
          "text": [
            "Epoch [15/100] - Train Loss: 3786.2511, Val Loss: 3759.5589\n",
            "Best model saved at epoch 15 with validation loss: 3759.5589\n"
          ]
        },
        {
          "output_type": "stream",
          "name": "stderr",
          "text": []
        },
        {
          "output_type": "stream",
          "name": "stdout",
          "text": [
            "Epoch [16/100] - Train Loss: 3786.1062, Val Loss: 3759.3858\n",
            "Best model saved at epoch 16 with validation loss: 3759.3858\n"
          ]
        },
        {
          "output_type": "stream",
          "name": "stderr",
          "text": []
        },
        {
          "output_type": "stream",
          "name": "stdout",
          "text": [
            "Epoch [17/100] - Train Loss: 3785.8761, Val Loss: 3759.0412\n",
            "Best model saved at epoch 17 with validation loss: 3759.0412\n"
          ]
        },
        {
          "output_type": "stream",
          "name": "stderr",
          "text": []
        },
        {
          "output_type": "stream",
          "name": "stdout",
          "text": [
            "Epoch [18/100] - Train Loss: 3785.2488, Val Loss: 3758.1662\n",
            "Best model saved at epoch 18 with validation loss: 3758.1662\n"
          ]
        },
        {
          "output_type": "stream",
          "name": "stderr",
          "text": []
        },
        {
          "output_type": "stream",
          "name": "stdout",
          "text": [
            "Epoch [19/100] - Train Loss: 3784.8012, Val Loss: 3757.9601\n",
            "Best model saved at epoch 19 with validation loss: 3757.9601\n"
          ]
        },
        {
          "output_type": "stream",
          "name": "stderr",
          "text": []
        },
        {
          "output_type": "stream",
          "name": "stdout",
          "text": [
            "Epoch [20/100] - Train Loss: 3785.3601, Val Loss: 3758.0580\n"
          ]
        },
        {
          "output_type": "stream",
          "name": "stderr",
          "text": []
        },
        {
          "output_type": "stream",
          "name": "stdout",
          "text": [
            "Epoch [21/100] - Train Loss: 3784.5997, Val Loss: 3757.9064\n",
            "Best model saved at epoch 21 with validation loss: 3757.9064\n"
          ]
        },
        {
          "output_type": "stream",
          "name": "stderr",
          "text": []
        },
        {
          "output_type": "stream",
          "name": "stdout",
          "text": [
            "Epoch [22/100] - Train Loss: 3784.4283, Val Loss: 3757.8473\n",
            "Best model saved at epoch 22 with validation loss: 3757.8473\n"
          ]
        },
        {
          "output_type": "stream",
          "name": "stderr",
          "text": []
        },
        {
          "output_type": "stream",
          "name": "stdout",
          "text": [
            "Epoch [23/100] - Train Loss: 3784.4007, Val Loss: 3757.8421\n",
            "Best model saved at epoch 23 with validation loss: 3757.8421\n"
          ]
        },
        {
          "output_type": "stream",
          "name": "stderr",
          "text": []
        },
        {
          "output_type": "stream",
          "name": "stdout",
          "text": [
            "Epoch [24/100] - Train Loss: 3784.3401, Val Loss: 3757.8192\n",
            "Best model saved at epoch 24 with validation loss: 3757.8192\n"
          ]
        },
        {
          "output_type": "stream",
          "name": "stderr",
          "text": []
        },
        {
          "output_type": "stream",
          "name": "stdout",
          "text": [
            "Epoch [25/100] - Train Loss: 3784.6325, Val Loss: 3757.8064\n",
            "Best model saved at epoch 25 with validation loss: 3757.8064\n"
          ]
        },
        {
          "output_type": "stream",
          "name": "stderr",
          "text": []
        },
        {
          "output_type": "stream",
          "name": "stdout",
          "text": [
            "Epoch [26/100] - Train Loss: 3784.4148, Val Loss: 3757.8051\n",
            "Best model saved at epoch 26 with validation loss: 3757.8051\n"
          ]
        },
        {
          "output_type": "stream",
          "name": "stderr",
          "text": []
        },
        {
          "output_type": "stream",
          "name": "stdout",
          "text": [
            "Epoch [27/100] - Train Loss: 3784.2964, Val Loss: 3757.7884\n",
            "Best model saved at epoch 27 with validation loss: 3757.7884\n"
          ]
        },
        {
          "output_type": "stream",
          "name": "stderr",
          "text": []
        },
        {
          "output_type": "stream",
          "name": "stdout",
          "text": [
            "Epoch [28/100] - Train Loss: 3784.2515, Val Loss: 3757.8009\n"
          ]
        },
        {
          "output_type": "stream",
          "name": "stderr",
          "text": []
        },
        {
          "output_type": "stream",
          "name": "stdout",
          "text": [
            "Epoch [29/100] - Train Loss: 3784.2422, Val Loss: 3757.7779\n",
            "Best model saved at epoch 29 with validation loss: 3757.7779\n"
          ]
        },
        {
          "output_type": "stream",
          "name": "stderr",
          "text": []
        },
        {
          "output_type": "stream",
          "name": "stdout",
          "text": [
            "Epoch [30/100] - Train Loss: 3784.2456, Val Loss: 3757.7964\n"
          ]
        },
        {
          "output_type": "stream",
          "name": "stderr",
          "text": []
        },
        {
          "output_type": "stream",
          "name": "stdout",
          "text": [
            "Epoch [31/100] - Train Loss: 3784.2300, Val Loss: 3757.7658\n",
            "Best model saved at epoch 31 with validation loss: 3757.7658\n"
          ]
        },
        {
          "output_type": "stream",
          "name": "stderr",
          "text": []
        },
        {
          "output_type": "stream",
          "name": "stdout",
          "text": [
            "Epoch [32/100] - Train Loss: 3784.2937, Val Loss: 3757.7692\n"
          ]
        },
        {
          "output_type": "stream",
          "name": "stderr",
          "text": []
        },
        {
          "output_type": "stream",
          "name": "stdout",
          "text": [
            "Epoch [33/100] - Train Loss: 3784.2281, Val Loss: 3757.7644\n",
            "Best model saved at epoch 33 with validation loss: 3757.7644\n"
          ]
        },
        {
          "output_type": "stream",
          "name": "stderr",
          "text": []
        },
        {
          "output_type": "stream",
          "name": "stdout",
          "text": [
            "Epoch [34/100] - Train Loss: 3784.4835, Val Loss: 3757.7619\n",
            "Best model saved at epoch 34 with validation loss: 3757.7619\n"
          ]
        },
        {
          "output_type": "stream",
          "name": "stderr",
          "text": []
        },
        {
          "output_type": "stream",
          "name": "stdout",
          "text": [
            "Epoch [35/100] - Train Loss: 3784.3138, Val Loss: 3757.7659\n"
          ]
        },
        {
          "output_type": "stream",
          "name": "stderr",
          "text": []
        },
        {
          "output_type": "stream",
          "name": "stdout",
          "text": [
            "Epoch [36/100] - Train Loss: 3784.2234, Val Loss: 3757.7634\n"
          ]
        },
        {
          "output_type": "stream",
          "name": "stderr",
          "text": []
        },
        {
          "output_type": "stream",
          "name": "stdout",
          "text": [
            "Epoch [37/100] - Train Loss: 3784.5772, Val Loss: 3757.7547\n",
            "Best model saved at epoch 37 with validation loss: 3757.7547\n"
          ]
        },
        {
          "output_type": "stream",
          "name": "stderr",
          "text": []
        },
        {
          "output_type": "stream",
          "name": "stdout",
          "text": [
            "Epoch [38/100] - Train Loss: 3784.2936, Val Loss: 3757.7575\n"
          ]
        },
        {
          "output_type": "stream",
          "name": "stderr",
          "text": []
        },
        {
          "output_type": "stream",
          "name": "stdout",
          "text": [
            "Epoch [39/100] - Train Loss: 3784.2116, Val Loss: 3757.7574\n"
          ]
        },
        {
          "output_type": "stream",
          "name": "stderr",
          "text": []
        },
        {
          "output_type": "stream",
          "name": "stdout",
          "text": [
            "Epoch [40/100] - Train Loss: 3784.2065, Val Loss: 3757.7559\n"
          ]
        },
        {
          "output_type": "stream",
          "name": "stderr",
          "text": []
        },
        {
          "output_type": "stream",
          "name": "stdout",
          "text": [
            "Epoch [41/100] - Train Loss: 3784.2033, Val Loss: 3757.7539\n",
            "Best model saved at epoch 41 with validation loss: 3757.7539\n"
          ]
        },
        {
          "output_type": "stream",
          "name": "stderr",
          "text": []
        },
        {
          "output_type": "stream",
          "name": "stdout",
          "text": [
            "Epoch [42/100] - Train Loss: 3784.2013, Val Loss: 3757.7518\n",
            "Best model saved at epoch 42 with validation loss: 3757.7518\n"
          ]
        },
        {
          "output_type": "stream",
          "name": "stderr",
          "text": []
        },
        {
          "output_type": "stream",
          "name": "stdout",
          "text": [
            "Epoch [43/100] - Train Loss: 3784.2000, Val Loss: 3757.7538\n"
          ]
        },
        {
          "output_type": "stream",
          "name": "stderr",
          "text": []
        },
        {
          "output_type": "stream",
          "name": "stdout",
          "text": [
            "Epoch [44/100] - Train Loss: 3784.2008, Val Loss: 3757.7504\n",
            "Best model saved at epoch 44 with validation loss: 3757.7504\n"
          ]
        },
        {
          "output_type": "stream",
          "name": "stderr",
          "text": []
        },
        {
          "output_type": "stream",
          "name": "stdout",
          "text": [
            "Epoch [45/100] - Train Loss: 3784.4096, Val Loss: 3757.7513\n"
          ]
        },
        {
          "output_type": "stream",
          "name": "stderr",
          "text": []
        },
        {
          "output_type": "stream",
          "name": "stdout",
          "text": [
            "Epoch [46/100] - Train Loss: 3784.3724, Val Loss: 3757.7500\n",
            "Best model saved at epoch 46 with validation loss: 3757.7500\n"
          ]
        },
        {
          "output_type": "stream",
          "name": "stderr",
          "text": []
        },
        {
          "output_type": "stream",
          "name": "stdout",
          "text": [
            "Epoch [47/100] - Train Loss: 3784.3231, Val Loss: 3757.7489\n",
            "Best model saved at epoch 47 with validation loss: 3757.7489\n"
          ]
        },
        {
          "output_type": "stream",
          "name": "stderr",
          "text": []
        },
        {
          "output_type": "stream",
          "name": "stdout",
          "text": [
            "Epoch [48/100] - Train Loss: 3784.2285, Val Loss: 3757.7517\n"
          ]
        },
        {
          "output_type": "stream",
          "name": "stderr",
          "text": []
        },
        {
          "output_type": "stream",
          "name": "stdout",
          "text": [
            "Epoch [49/100] - Train Loss: 3784.2418, Val Loss: 3757.7498\n"
          ]
        },
        {
          "output_type": "stream",
          "name": "stderr",
          "text": []
        },
        {
          "output_type": "stream",
          "name": "stdout",
          "text": [
            "Epoch [50/100] - Train Loss: 3784.1975, Val Loss: 3757.7470\n",
            "Best model saved at epoch 50 with validation loss: 3757.7470\n"
          ]
        },
        {
          "output_type": "stream",
          "name": "stderr",
          "text": []
        },
        {
          "output_type": "stream",
          "name": "stdout",
          "text": [
            "Epoch [51/100] - Train Loss: 3784.1928, Val Loss: 3757.7465\n",
            "Best model saved at epoch 51 with validation loss: 3757.7465\n"
          ]
        },
        {
          "output_type": "stream",
          "name": "stderr",
          "text": []
        },
        {
          "output_type": "stream",
          "name": "stdout",
          "text": [
            "Epoch [52/100] - Train Loss: 3784.1937, Val Loss: 3757.7478\n"
          ]
        },
        {
          "output_type": "stream",
          "name": "stderr",
          "text": []
        },
        {
          "output_type": "stream",
          "name": "stdout",
          "text": [
            "Epoch [53/100] - Train Loss: 3784.3612, Val Loss: 3757.7471\n"
          ]
        },
        {
          "output_type": "stream",
          "name": "stderr",
          "text": []
        },
        {
          "output_type": "stream",
          "name": "stdout",
          "text": [
            "Epoch [54/100] - Train Loss: 3784.1943, Val Loss: 3757.7494\n"
          ]
        },
        {
          "output_type": "stream",
          "name": "stderr",
          "text": []
        },
        {
          "output_type": "stream",
          "name": "stdout",
          "text": [
            "Epoch [55/100] - Train Loss: 3784.1948, Val Loss: 3757.7501\n"
          ]
        },
        {
          "output_type": "stream",
          "name": "stderr",
          "text": []
        },
        {
          "output_type": "stream",
          "name": "stdout",
          "text": [
            "Epoch [56/100] - Train Loss: 3784.2037, Val Loss: 3757.7461\n",
            "Best model saved at epoch 56 with validation loss: 3757.7461\n"
          ]
        },
        {
          "output_type": "stream",
          "name": "stderr",
          "text": []
        },
        {
          "output_type": "stream",
          "name": "stdout",
          "text": [
            "Epoch [57/100] - Train Loss: 3784.1921, Val Loss: 3757.7465\n"
          ]
        },
        {
          "output_type": "stream",
          "name": "stderr",
          "text": []
        },
        {
          "output_type": "stream",
          "name": "stdout",
          "text": [
            "Epoch [58/100] - Train Loss: 3784.1971, Val Loss: 3757.7505\n"
          ]
        },
        {
          "output_type": "stream",
          "name": "stderr",
          "text": []
        },
        {
          "output_type": "stream",
          "name": "stdout",
          "text": [
            "Epoch [59/100] - Train Loss: 3784.1862, Val Loss: 3757.7448\n",
            "Best model saved at epoch 59 with validation loss: 3757.7448\n"
          ]
        },
        {
          "output_type": "stream",
          "name": "stderr",
          "text": []
        },
        {
          "output_type": "stream",
          "name": "stdout",
          "text": [
            "Epoch [60/100] - Train Loss: 3784.1919, Val Loss: 3757.7465\n"
          ]
        },
        {
          "output_type": "stream",
          "name": "stderr",
          "text": []
        },
        {
          "output_type": "stream",
          "name": "stdout",
          "text": [
            "Epoch [61/100] - Train Loss: 3784.1888, Val Loss: 3757.7467\n"
          ]
        },
        {
          "output_type": "stream",
          "name": "stderr",
          "text": []
        },
        {
          "output_type": "stream",
          "name": "stdout",
          "text": [
            "Epoch [62/100] - Train Loss: 3784.1895, Val Loss: 3757.7451\n"
          ]
        },
        {
          "output_type": "stream",
          "name": "stderr",
          "text": []
        },
        {
          "output_type": "stream",
          "name": "stdout",
          "text": [
            "Epoch [63/100] - Train Loss: 3784.1888, Val Loss: 3757.7451\n"
          ]
        },
        {
          "output_type": "stream",
          "name": "stderr",
          "text": []
        },
        {
          "output_type": "stream",
          "name": "stdout",
          "text": [
            "Epoch [64/100] - Train Loss: 3784.1883, Val Loss: 3757.7441\n",
            "Best model saved at epoch 64 with validation loss: 3757.7441\n"
          ]
        },
        {
          "output_type": "stream",
          "name": "stderr",
          "text": []
        },
        {
          "output_type": "stream",
          "name": "stdout",
          "text": [
            "Epoch [65/100] - Train Loss: 3784.1915, Val Loss: 3757.7455\n"
          ]
        },
        {
          "output_type": "stream",
          "name": "stderr",
          "text": []
        },
        {
          "output_type": "stream",
          "name": "stdout",
          "text": [
            "Epoch [66/100] - Train Loss: 3784.1876, Val Loss: 3757.7464\n"
          ]
        },
        {
          "output_type": "stream",
          "name": "stderr",
          "text": []
        },
        {
          "output_type": "stream",
          "name": "stdout",
          "text": [
            "Epoch [67/100] - Train Loss: 3784.1874, Val Loss: 3757.7421\n",
            "Best model saved at epoch 67 with validation loss: 3757.7421\n"
          ]
        },
        {
          "output_type": "stream",
          "name": "stderr",
          "text": []
        },
        {
          "output_type": "stream",
          "name": "stdout",
          "text": [
            "Epoch [68/100] - Train Loss: 3784.1843, Val Loss: 3757.7414\n",
            "Best model saved at epoch 68 with validation loss: 3757.7414\n"
          ]
        },
        {
          "output_type": "stream",
          "name": "stderr",
          "text": []
        },
        {
          "output_type": "stream",
          "name": "stdout",
          "text": [
            "Epoch [69/100] - Train Loss: 3784.1895, Val Loss: 3757.7417\n"
          ]
        },
        {
          "output_type": "stream",
          "name": "stderr",
          "text": []
        },
        {
          "output_type": "stream",
          "name": "stdout",
          "text": [
            "Epoch [70/100] - Train Loss: 3784.1813, Val Loss: 3757.7422\n"
          ]
        },
        {
          "output_type": "stream",
          "name": "stderr",
          "text": []
        },
        {
          "output_type": "stream",
          "name": "stdout",
          "text": [
            "Epoch [71/100] - Train Loss: 3784.1835, Val Loss: 3757.7428\n"
          ]
        },
        {
          "output_type": "stream",
          "name": "stderr",
          "text": []
        },
        {
          "output_type": "stream",
          "name": "stdout",
          "text": [
            "Epoch [72/100] - Train Loss: 3784.1801, Val Loss: 3757.7446\n"
          ]
        },
        {
          "output_type": "stream",
          "name": "stderr",
          "text": []
        },
        {
          "output_type": "stream",
          "name": "stdout",
          "text": [
            "Epoch [73/100] - Train Loss: 3784.1799, Val Loss: 3757.7403\n",
            "Best model saved at epoch 73 with validation loss: 3757.7403\n"
          ]
        },
        {
          "output_type": "stream",
          "name": "stderr",
          "text": []
        },
        {
          "output_type": "stream",
          "name": "stdout",
          "text": [
            "Epoch [74/100] - Train Loss: 3784.1820, Val Loss: 3757.7453\n"
          ]
        },
        {
          "output_type": "stream",
          "name": "stderr",
          "text": []
        },
        {
          "output_type": "stream",
          "name": "stdout",
          "text": [
            "Epoch [75/100] - Train Loss: 3784.1816, Val Loss: 3757.7415\n"
          ]
        },
        {
          "output_type": "stream",
          "name": "stderr",
          "text": []
        },
        {
          "output_type": "stream",
          "name": "stdout",
          "text": [
            "Epoch [76/100] - Train Loss: 3784.1792, Val Loss: 3757.7397\n",
            "Best model saved at epoch 76 with validation loss: 3757.7397\n"
          ]
        },
        {
          "output_type": "stream",
          "name": "stderr",
          "text": []
        },
        {
          "output_type": "stream",
          "name": "stdout",
          "text": [
            "Epoch [77/100] - Train Loss: 3784.1822, Val Loss: 3757.7397\n"
          ]
        },
        {
          "output_type": "stream",
          "name": "stderr",
          "text": []
        },
        {
          "output_type": "stream",
          "name": "stdout",
          "text": [
            "Epoch [78/100] - Train Loss: 3784.1789, Val Loss: 3757.7420\n"
          ]
        },
        {
          "output_type": "stream",
          "name": "stderr",
          "text": []
        },
        {
          "output_type": "stream",
          "name": "stdout",
          "text": [
            "Epoch [79/100] - Train Loss: 3784.1797, Val Loss: 3757.7394\n",
            "Best model saved at epoch 79 with validation loss: 3757.7394\n"
          ]
        },
        {
          "output_type": "stream",
          "name": "stderr",
          "text": []
        },
        {
          "output_type": "stream",
          "name": "stdout",
          "text": [
            "Epoch [80/100] - Train Loss: 3784.1787, Val Loss: 3757.7394\n"
          ]
        },
        {
          "output_type": "stream",
          "name": "stderr",
          "text": []
        },
        {
          "output_type": "stream",
          "name": "stdout",
          "text": [
            "Epoch [81/100] - Train Loss: 3784.1777, Val Loss: 3757.7390\n",
            "Best model saved at epoch 81 with validation loss: 3757.7390\n"
          ]
        },
        {
          "output_type": "stream",
          "name": "stderr",
          "text": []
        },
        {
          "output_type": "stream",
          "name": "stdout",
          "text": [
            "Epoch [82/100] - Train Loss: 3784.1777, Val Loss: 3757.7392\n"
          ]
        },
        {
          "output_type": "stream",
          "name": "stderr",
          "text": []
        },
        {
          "output_type": "stream",
          "name": "stdout",
          "text": [
            "Epoch [83/100] - Train Loss: 3784.1775, Val Loss: 3757.7388\n",
            "Best model saved at epoch 83 with validation loss: 3757.7388\n"
          ]
        },
        {
          "output_type": "stream",
          "name": "stderr",
          "text": []
        },
        {
          "output_type": "stream",
          "name": "stdout",
          "text": [
            "Epoch [84/100] - Train Loss: 3784.1779, Val Loss: 3757.7386\n",
            "Best model saved at epoch 84 with validation loss: 3757.7386\n"
          ]
        },
        {
          "output_type": "stream",
          "name": "stderr",
          "text": []
        },
        {
          "output_type": "stream",
          "name": "stdout",
          "text": [
            "Epoch [85/100] - Train Loss: 3784.1804, Val Loss: 3757.7425\n"
          ]
        },
        {
          "output_type": "stream",
          "name": "stderr",
          "text": []
        },
        {
          "output_type": "stream",
          "name": "stdout",
          "text": [
            "Epoch [86/100] - Train Loss: 3784.1784, Val Loss: 3757.7390\n"
          ]
        },
        {
          "output_type": "stream",
          "name": "stderr",
          "text": []
        },
        {
          "output_type": "stream",
          "name": "stdout",
          "text": [
            "Epoch [87/100] - Train Loss: 3784.1783, Val Loss: 3757.7386\n"
          ]
        },
        {
          "output_type": "stream",
          "name": "stderr",
          "text": []
        },
        {
          "output_type": "stream",
          "name": "stdout",
          "text": [
            "Epoch [88/100] - Train Loss: 3784.4454, Val Loss: 3757.7392\n"
          ]
        },
        {
          "output_type": "stream",
          "name": "stderr",
          "text": [
            "                                                                                          "
          ]
        },
        {
          "output_type": "stream",
          "name": "stdout",
          "text": [
            "Epoch [89/100] - Train Loss: 3784.1935, Val Loss: 3757.7471\n",
            "Early stopping triggered at epoch 89\n",
            "Best model loaded.\n"
          ]
        },
        {
          "output_type": "stream",
          "name": "stderr",
          "text": [
            "\r<ipython-input-99-26629c97cdd9>:78: FutureWarning: You are using `torch.load` with `weights_only=False` (the current default value), which uses the default pickle module implicitly. It is possible to construct malicious pickle data which will execute arbitrary code during unpickling (See https://github.com/pytorch/pytorch/blob/main/SECURITY.md#untrusted-models for more details). In a future release, the default value for `weights_only` will be flipped to `True`. This limits the functions that could be executed during unpickling. Arbitrary objects will no longer be allowed to be loaded via this mode unless they are explicitly allowlisted by the user via `torch.serialization.add_safe_globals`. We recommend you start setting `weights_only=True` for any use case where you don't have full control of the loaded file. Please open an issue on GitHub for any issues related to this experimental feature.\n",
            "  model.load_state_dict(torch.load(save_path))\n"
          ]
        }
      ]
    },
    {
      "cell_type": "code",
      "source": [
        "from sklearn.metrics import classification_report, confusion_matrix\n",
        "\n",
        "def test_autoencoder(model, test_loader, device='cuda', threshold=None):\n",
        "    model.to(device)\n",
        "    model.eval()\n",
        "\n",
        "    reconstruction_errors = []\n",
        "    true_labels = []\n",
        "\n",
        "    with torch.no_grad():\n",
        "        for data, labels in test_loader:\n",
        "            data = data.to(device)\n",
        "            true_labels.extend(labels)\n",
        "\n",
        "            # Forward pass\n",
        "            outputs = model(data)\n",
        "\n",
        "            # Compute reconstruction error (Mean Squared Error per sample)\n",
        "            error = torch.mean((outputs - data) ** 2, dim=[1, 2, 3])\n",
        "            reconstruction_errors.extend(error.cpu().numpy())\n",
        "\n",
        "    # If threshold is not provided, set it as the 90th percentile of errors\n",
        "    if threshold is None:\n",
        "        threshold = np.percentile(reconstruction_errors, 90)\n",
        "        print(f\"Using threshold (90th percentile): {threshold:.4f}\")\n",
        "\n",
        "    # Identify anomalies based on the threshold\n",
        "    predictions = ['anomaly' if error > threshold else 'normal' for error in reconstruction_errors]\n",
        "\n",
        "    # Calculate performance metrics\n",
        "    print(\"\\nClassification Report:\")\n",
        "    print(classification_report(true_labels, predictions, target_names=['normal', 'anomaly']))\n",
        "\n",
        "    # Confusion matrix\n",
        "    cm = confusion_matrix(true_labels, predictions, labels=['normal', 'anomaly'])\n",
        "    print(\"\\nConfusion Matrix:\")\n",
        "    print(cm)\n",
        "\n",
        "    # Plot the distribution of reconstruction errors\n",
        "    plt.figure(figsize=(10, 6))\n",
        "    plt.hist(reconstruction_errors, bins=50, color='blue')\n",
        "    plt.axvline(threshold, color='red', linestyle='dashed', linewidth=2, label=f'Threshold: {threshold:.4f}')\n",
        "    plt.xlabel('Reconstruction Error')\n",
        "    plt.ylabel('Number of Samples')\n",
        "    plt.title('Reconstruction Error Distribution')\n",
        "    plt.legend()\n",
        "    plt.show()\n",
        "\n",
        "    return reconstruction_errors, threshold\n",
        "\n",
        "# Call the testing function\n",
        "reconstruction_errors, threshold = test_autoencoder(model, test_loader)\n"
      ],
      "metadata": {
        "colab": {
          "base_uri": "https://localhost:8080/",
          "height": 842
        },
        "id": "6hriWsR-rkpp",
        "outputId": "4227d9a0-1b5e-431c-8589-62184c6e36f9"
      },
      "id": "6hriWsR-rkpp",
      "execution_count": 102,
      "outputs": [
        {
          "output_type": "stream",
          "name": "stdout",
          "text": [
            "Using threshold (90th percentile): 8023.2097\n",
            "\n",
            "Classification Report:\n",
            "              precision    recall  f1-score   support\n",
            "\n",
            "      normal       1.00      0.13      0.23       172\n",
            "     anomaly       0.21      1.00      0.35        41\n",
            "\n",
            "    accuracy                           0.30       213\n",
            "   macro avg       0.61      0.56      0.29       213\n",
            "weighted avg       0.85      0.30      0.25       213\n",
            "\n",
            "\n",
            "Confusion Matrix:\n",
            "[[ 41   0]\n",
            " [150  22]]\n"
          ]
        },
        {
          "output_type": "display_data",
          "data": {
            "text/plain": [
              "<Figure size 1000x600 with 1 Axes>"
            ],
            "image/png": "[encoded data removed]"
          },
          "metadata": {}
        }
      ]
    },
    {
      "cell_type": "code",
      "source": [
        "import torch\n",
        "import torch.nn as nn\n",
        "import torch.nn.functional as F\n",
        "\n",
        "class CNN_VAE(nn.Module):\n",
        "    def __init__(self, latent_dim=128):\n",
        "        super(CNN_VAE, self).__init__()\n",
        "\n",
        "        # Encoder\n",
        "        self.encoder = nn.Sequential(\n",
        "            nn.BatchNorm2d(1),\n",
        "            nn.Conv2d(1, 16, kernel_size=3, stride=2, padding=1),\n",
        "            nn.LeakyReLU(0.1),\n",
        "            nn.BatchNorm2d(16),\n",
        "            nn.Dropout(0.2),\n",
        "\n",
        "            nn.Conv2d(16, 32, kernel_size=3, stride=2, padding=1),\n",
        "            nn.LeakyReLU(0.1),\n",
        "            nn.BatchNorm2d(32),\n",
        "            nn.Dropout(0.2),\n",
        "\n",
        "            nn.Conv2d(32, 64, kernel_size=3, stride=2, padding=1),\n",
        "            nn.LeakyReLU(0.1),\n",
        "            nn.BatchNorm2d(64),\n",
        "            nn.Dropout(0.2)\n",
        "        )\n",
        "\n",
        "        # Compute the flattened dimension after the encoder\n",
        "        self.flatten_dim = 64 * 16 * 54  # Adjust this based on your input size\n",
        "\n",
        "        # Latent space\n",
        "        self.fc_mu = nn.Linear(self.flatten_dim, latent_dim)\n",
        "        self.fc_logvar = nn.Linear(self.flatten_dim, latent_dim)\n",
        "        self.fc_decode = nn.Linear(latent_dim, self.flatten_dim)\n",
        "\n",
        "        # Decoder\n",
        "        self.decoder = nn.Sequential(\n",
        "            nn.ConvTranspose2d(64, 32, kernel_size=3, stride=2, padding=1, output_padding=1),\n",
        "            nn.LeakyReLU(0.1),\n",
        "            nn.BatchNorm2d(32),\n",
        "            nn.Dropout(0.2),\n",
        "\n",
        "            nn.ConvTranspose2d(32, 16, kernel_size=3, stride=2, padding=1, output_padding=1),\n",
        "            nn.LeakyReLU(0.1),\n",
        "            nn.BatchNorm2d(16),\n",
        "            nn.Dropout(0.2),\n",
        "\n",
        "            nn.ConvTranspose2d(16, 1, kernel_size=3, stride=2, padding=1, output_padding=1),\n",
        "            nn.Sigmoid()  # Output values between 0 and 1\n",
        "        )\n",
        "\n",
        "    def encode(self, x):\n",
        "        x = self.encoder(x)\n",
        "        x = x.view(x.size(0), -1)\n",
        "        mu = self.fc_mu(x)\n",
        "        logvar = self.fc_logvar(x)\n",
        "        return mu, logvar\n",
        "\n",
        "    def reparameterize(self, mu, logvar):\n",
        "        std = torch.exp(0.5 * logvar)\n",
        "        eps = torch.randn_like(std)\n",
        "        return mu + eps * std\n",
        "\n",
        "    def decode(self, z):\n",
        "        x = self.fc_decode(z)\n",
        "        x = x.view(-1, 64, 16, 54)\n",
        "        x = self.decoder(x)\n",
        "        return x[:, :, :128, :431]\n",
        "\n",
        "    def forward(self, x):\n",
        "        mu, logvar = self.encode(x)\n",
        "        z = self.reparameterize(mu, logvar)\n",
        "        x_recon = self.decode(z)\n",
        "        return x_recon, mu, logvar\n",
        "\n",
        "\n",
        "def vae_loss(recon_x, x, mu, logvar):\n",
        "    # Reconstruction loss (MSE) with mean reduction\n",
        "    recon_loss = F.mse_loss(recon_x, x, reduction='mean')\n",
        "\n",
        "    # KL divergence loss\n",
        "    kl_divergence = -0.5 * torch.sum(1 + logvar - mu.pow(2) - logvar.exp())\n",
        "\n",
        "    # Normalize KL divergence by batch size\n",
        "    kl_divergence /= x.size(0)\n",
        "\n",
        "    return recon_loss + kl_divergence\n"
      ],
      "metadata": {
        "id": "Y6RMtydO3OCs"
      },
      "id": "Y6RMtydO3OCs",
      "execution_count": 114,
      "outputs": []
    },
    {
      "cell_type": "code",
      "source": [
        "from tqdm import tqdm\n",
        "import torch\n",
        "\n",
        "def train_vae(model, train_loader, val_loader, optimizer, device='cuda', epochs=20, gradient_clip=1.0, patience=5, save_path='best_vae_model.pth'):\n",
        "    model.to(device)\n",
        "\n",
        "    train_loss_history = []\n",
        "    val_loss_history = []\n",
        "\n",
        "    # Early stopping variables\n",
        "    best_val_loss = float('inf')\n",
        "    patience_counter = 0\n",
        "\n",
        "    for epoch in range(epochs):\n",
        "        model.train()\n",
        "        running_train_loss = 0.0\n",
        "\n",
        "        # Training loop\n",
        "        with tqdm(train_loader, desc=f\"Epoch {epoch+1}/{epochs} [Training]\", leave=True) as t_train:\n",
        "            for data, _ in t_train:\n",
        "                data = data.to(device)\n",
        "                optimizer.zero_grad()\n",
        "\n",
        "                # Forward pass\n",
        "                recon_data, mu, logvar = model(data)\n",
        "\n",
        "                # Compute VAE loss\n",
        "                loss = vae_loss(recon_data, data, mu, logvar)\n",
        "                loss.backward()\n",
        "\n",
        "                # Gradient clipping\n",
        "                torch.nn.utils.clip_grad_norm_(model.parameters(), gradient_clip)\n",
        "\n",
        "                optimizer.step()\n",
        "\n",
        "                running_train_loss += loss.item()\n",
        "                t_train.set_postfix(train_loss=loss.item())\n",
        "\n",
        "        train_loss = running_train_loss / len(train_loader.dataset)\n",
        "        train_loss_history.append(train_loss)\n",
        "\n",
        "        # Validation loop\n",
        "        model.eval()\n",
        "        running_val_loss = 0.0\n",
        "\n",
        "        with tqdm(val_loader, desc=f\"Epoch {epoch+1}/{epochs} [Validation]\", leave=True) as t_val:\n",
        "            with torch.no_grad():\n",
        "                for data, _ in t_val:\n",
        "                    data = data.to(device)\n",
        "                    recon_data, mu, logvar = model(data)\n",
        "                    loss = vae_loss(recon_data, data, mu, logvar)\n",
        "                    running_val_loss += loss.item()\n",
        "                    t_val.set_postfix(val_loss=loss.item())\n",
        "\n",
        "        val_loss = running_val_loss / len(val_loader.dataset)\n",
        "        val_loss_history.append(val_loss)\n",
        "\n",
        "        # Print epoch summary\n",
        "        print(f\"Epoch [{epoch+1}/{epochs}] - Train Loss: {train_loss:.4f}, Val Loss: {val_loss:.4f}\")\n",
        "\n",
        "        # Early stopping logic\n",
        "        if val_loss < best_val_loss:\n",
        "            best_val_loss = val_loss\n",
        "            patience_counter = 0\n",
        "            torch.save(model.state_dict(), save_path)\n",
        "            print(f\"Best model saved at epoch {epoch+1} with validation loss: {best_val_loss:.4f}\")\n",
        "        else:\n",
        "            patience_counter += 1\n",
        "            if patience_counter >= patience:\n",
        "                print(f\"Early stopping triggered at epoch {epoch+1}\")\n",
        "                break\n",
        "\n",
        "    # Load the best model\n",
        "    model.load_state_dict(torch.load(save_path))\n",
        "    print(\"Best model loaded.\")\n",
        "\n",
        "    return train_loss_history, val_loss_history\n"
      ],
      "metadata": {
        "id": "oQf7rBrk3S0E"
      },
      "id": "oQf7rBrk3S0E",
      "execution_count": 109,
      "outputs": []
    },
    {
      "cell_type": "code",
      "source": [
        "# Initialize the VAE model\n",
        "vae_model = CNN_VAE(latent_dim=128)\n",
        "\n",
        "# Define the optimizer\n",
        "optimizer = torch.optim.Adam(vae_model.parameters(), lr=0.0001)\n",
        "\n",
        "# Train the VAE with the modified function\n",
        "train_loss_history, val_loss_history = train_vae(\n",
        "    vae_model,\n",
        "    train_loader,\n",
        "    val_loader,\n",
        "    optimizer,\n",
        "    device='cuda',\n",
        "    epochs=20,\n",
        "    patience=5,\n",
        "    save_path='best_vae_model.pth'\n",
        ")"
      ],
      "metadata": {
        "colab": {
          "base_uri": "https://localhost:8080/"
        },
        "id": "hGu7pVJt3UXr",
        "outputId": "12c778cc-9e28-418a-ddc8-7383487814b5"
      },
      "id": "hGu7pVJt3UXr",
      "execution_count": 115,
      "outputs": [
        {
          "output_type": "stream",
          "name": "stderr",
          "text": [
            "Epoch 1/20 [Training]: 100%|██████████| 19/19 [00:03<00:00,  5.96it/s, train_loss=4.97e+3]\n",
            "Epoch 1/20 [Validation]: 100%|██████████| 2/2 [00:00<00:00,  8.24it/s, val_loss=3.12e+3]\n"
          ]
        },
        {
          "output_type": "stream",
          "name": "stdout",
          "text": [
            "Epoch [1/20] - Train Loss: 128.0569, Val Loss: 139.2510\n",
            "Best model saved at epoch 1 with validation loss: 139.2510\n"
          ]
        },
        {
          "output_type": "stream",
          "name": "stderr",
          "text": [
            "Epoch 2/20 [Training]: 100%|██████████| 19/19 [00:03<00:00,  5.99it/s, train_loss=3.86e+3]\n",
            "Epoch 2/20 [Validation]: 100%|██████████| 2/2 [00:00<00:00,  9.68it/s, val_loss=3.13e+3]\n"
          ]
        },
        {
          "output_type": "stream",
          "name": "stdout",
          "text": [
            "Epoch [2/20] - Train Loss: 126.5634, Val Loss: 139.4761\n"
          ]
        },
        {
          "output_type": "stream",
          "name": "stderr",
          "text": [
            "Epoch 3/20 [Training]: 100%|██████████| 19/19 [00:02<00:00,  6.57it/s, train_loss=4.68e+3]\n",
            "Epoch 3/20 [Validation]: 100%|██████████| 2/2 [00:00<00:00,  8.53it/s, val_loss=3.14e+3]\n"
          ]
        },
        {
          "output_type": "stream",
          "name": "stdout",
          "text": [
            "Epoch [3/20] - Train Loss: 127.5543, Val Loss: 139.7127\n"
          ]
        },
        {
          "output_type": "stream",
          "name": "stderr",
          "text": [
            "Epoch 4/20 [Training]: 100%|██████████| 19/19 [00:02<00:00,  6.61it/s, train_loss=2.38e+3]\n",
            "Epoch 4/20 [Validation]: 100%|██████████| 2/2 [00:00<00:00,  9.58it/s, val_loss=3.14e+3]\n"
          ]
        },
        {
          "output_type": "stream",
          "name": "stdout",
          "text": [
            "Epoch [4/20] - Train Loss: 124.2891, Val Loss: 139.7476\n"
          ]
        },
        {
          "output_type": "stream",
          "name": "stderr",
          "text": [
            "Epoch 5/20 [Training]: 100%|██████████| 19/19 [00:03<00:00,  5.80it/s, train_loss=3.37e+3]\n",
            "Epoch 5/20 [Validation]: 100%|██████████| 2/2 [00:00<00:00,  8.08it/s, val_loss=3.14e+3]\n"
          ]
        },
        {
          "output_type": "stream",
          "name": "stdout",
          "text": [
            "Epoch [5/20] - Train Loss: 125.6154, Val Loss: 139.6970\n"
          ]
        },
        {
          "output_type": "stream",
          "name": "stderr",
          "text": [
            "Epoch 6/20 [Training]: 100%|██████████| 19/19 [00:03<00:00,  6.30it/s, train_loss=3.59e+3]\n",
            "Epoch 6/20 [Validation]: 100%|██████████| 2/2 [00:00<00:00,  9.90it/s, val_loss=3.14e+3]"
          ]
        },
        {
          "output_type": "stream",
          "name": "stdout",
          "text": [
            "Epoch [6/20] - Train Loss: 125.9004, Val Loss: 139.7341\n",
            "Early stopping triggered at epoch 6\n",
            "Best model loaded.\n"
          ]
        },
        {
          "output_type": "stream",
          "name": "stderr",
          "text": [
            "\n",
            "<ipython-input-109-c279d52f2c55>:74: FutureWarning: You are using `torch.load` with `weights_only=False` (the current default value), which uses the default pickle module implicitly. It is possible to construct malicious pickle data which will execute arbitrary code during unpickling (See https://github.com/pytorch/pytorch/blob/main/SECURITY.md#untrusted-models for more details). In a future release, the default value for `weights_only` will be flipped to `True`. This limits the functions that could be executed during unpickling. Arbitrary objects will no longer be allowed to be loaded via this mode unless they are explicitly allowlisted by the user via `torch.serialization.add_safe_globals`. We recommend you start setting `weights_only=True` for any use case where you don't have full control of the loaded file. Please open an issue on GitHub for any issues related to this experimental feature.\n",
            "  model.load_state_dict(torch.load(save_path))\n"
          ]
        }
      ]
    },
    {
      "cell_type": "code",
      "source": [
        "import torch\n",
        "import numpy as np\n",
        "from sklearn.metrics import classification_report, confusion_matrix\n",
        "import matplotlib.pyplot as plt\n",
        "\n",
        "def test_vae(model, test_loader, device='cuda', threshold=None):\n",
        "    model.to(device)\n",
        "    model.eval()\n",
        "\n",
        "    reconstruction_errors = []\n",
        "    true_labels = []\n",
        "\n",
        "    with torch.no_grad():\n",
        "        for data, labels in test_loader:\n",
        "            data = data.to(device)\n",
        "            true_labels.extend(labels)\n",
        "\n",
        "            # Forward pass\n",
        "            recon_data, mu, logvar = model(data)\n",
        "\n",
        "            # Compute reconstruction error (Mean Squared Error per sample)\n",
        "            error = torch.mean((recon_data - data) ** 2, dim=[1, 2, 3])\n",
        "            reconstruction_errors.extend(error.cpu().numpy())\n",
        "\n",
        "    # Convert labels to numpy array\n",
        "    true_labels = np.array(true_labels)\n",
        "\n",
        "    # Plot the distribution of reconstruction errors\n",
        "    plt.figure(figsize=(10, 6))\n",
        "    plt.hist(reconstruction_errors, bins=50, color='blue')\n",
        "    plt.xlabel('Reconstruction Error')\n",
        "    plt.ylabel('Number of Samples')\n",
        "    plt.title('Reconstruction Error Distribution')\n",
        "    plt.show()\n",
        "\n",
        "    # If threshold is not provided, set it as the 90th percentile of errors\n",
        "    if threshold is None:\n",
        "        threshold = np.percentile(reconstruction_errors, 90)\n",
        "        print(f\"Using threshold (90th percentile): {threshold:.4f}\")\n",
        "\n",
        "    # Identify anomalies based on the threshold\n",
        "    predictions = ['anomaly' if error > threshold else 'normal' for error in reconstruction_errors]\n",
        "\n",
        "    # Classification report\n",
        "    print(\"\\nClassification Report:\")\n",
        "    print(classification_report(true_labels, predictions, target_names=['normal', 'anomaly']))\n",
        "\n",
        "    # Confusion matrix\n",
        "    cm = confusion_matrix(true_labels, predictions, labels=['normal', 'anomaly'])\n",
        "    print(\"\\nConfusion Matrix:\")\n",
        "    print(cm)\n",
        "\n",
        "    return reconstruction_errors, threshold\n"
      ],
      "metadata": {
        "id": "hr2b-jdH5Raw"
      },
      "id": "hr2b-jdH5Raw",
      "execution_count": 116,
      "outputs": []
    },
    {
      "cell_type": "code",
      "source": [
        "reconstruction_errors, threshold = test_vae(vae_model, test_loader)\n"
      ],
      "metadata": {
        "colab": {
          "base_uri": "https://localhost:8080/",
          "height": 842
        },
        "id": "zDPMEhzf6eEC",
        "outputId": "00079b6d-8eb1-4c64-88b0-24c843d814e7"
      },
      "id": "zDPMEhzf6eEC",
      "execution_count": 117,
      "outputs": [
        {
          "output_type": "display_data",
          "data": {
            "text/plain": [
              "<Figure size 1000x600 with 1 Axes>"
            ],
            "image/png": "[encoded data removed]"
          },
          "metadata": {}
        },
        {
          "output_type": "stream",
          "name": "stdout",
          "text": [
            "Using threshold (90th percentile): 8092.9188\n",
            "\n",
            "Classification Report:\n",
            "              precision    recall  f1-score   support\n",
            "\n",
            "      normal       1.00      0.13      0.23       172\n",
            "     anomaly       0.21      1.00      0.35        41\n",
            "\n",
            "    accuracy                           0.30       213\n",
            "   macro avg       0.61      0.56      0.29       213\n",
            "weighted avg       0.85      0.30      0.25       213\n",
            "\n",
            "\n",
            "Confusion Matrix:\n",
            "[[ 41   0]\n",
            " [150  22]]\n"
          ]
        }
      ]
    }
  ],
  "metadata": {
    "colab": {
      "provenance": [],
      "gpuType": "T4"
    },
    "kernelspec": {
      "display_name": "Python 3",
      "name": "python3"
    },
    "language_info": {
      "codemirror_mode": {
        "name": "ipython",
        "version": 3
      },
      "file_extension": ".py",
      "mimetype": "text/x-python",
      "name": "python",
      "nbconvert_exporter": "python",
      "pygments_lexer": "ipython3",
      "version": "3.9.7"
    },
    "accelerator": "GPU"
  },
  "nbformat": 4,
  "nbformat_minor": 5
}